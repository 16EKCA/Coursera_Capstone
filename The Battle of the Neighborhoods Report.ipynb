{
    "nbformat_minor": 1, 
    "cells": [
        {
            "source": "# Introduction\n\nI will be coming up with a recommendation for where someone should open a restaurant in New York. This is an important question to answer for any restaurateur who wants to open a successful restaurant in one of the most diverse and bustling cities in the world. If they establish the restaurant right, it can become world renowned.  I will achieve this through evaluating neighborhoods all across New York, not just in Manhattan, and establishing which ones have the lowest \"ratings per restaurant\". That area has a need for a good restaurant and a good restaurant may find it easy to stand out in that area.\n\n# ", 
            "cell_type": "markdown", 
            "metadata": {
                "collapsed": true
            }
        }
    ], 
    "metadata": {
        "kernelspec": {
            "display_name": "Python 3.5", 
            "name": "python3", 
            "language": "python"
        }, 
        "language_info": {
            "mimetype": "text/x-python", 
            "nbconvert_exporter": "python", 
            "version": "3.5.5", 
            "name": "python", 
            "file_extension": ".py", 
            "pygments_lexer": "ipython3", 
            "codemirror_mode": {
                "version": 3, 
                "name": "ipython"
            }
        }
    }, 
    "nbformat": 4
}